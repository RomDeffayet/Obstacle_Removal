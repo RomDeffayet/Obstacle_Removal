{
 "cells": [
  {
   "cell_type": "code",
   "execution_count": 1,
   "metadata": {
    "collapsed": true
   },
   "outputs": [],
   "source": [
    "import numpy as np"
   ]
  },
  {
   "cell_type": "code",
   "execution_count": 2,
   "metadata": {
    "collapsed": true
   },
   "outputs": [],
   "source": [
    "from skimage.io import imread\n",
    "\n",
    "boulangerie, leopard, danse = [],[],[]\n",
    "\n",
    "for i in range(5):\n",
    "    name_im = \"boulangerie\" + str(i+1)\n",
    "    filename = 'boulangerie/{}.png'.format(name_im)\n",
    "    boulangerie.append(imread(filename))\n",
    "    name_im = \"leopard\" + str(i+1)\n",
    "    filename = 'leopard/{}.png'.format(name_im)\n",
    "    leopard.append(imread(filename))\n",
    "    name_im = \"danse\" + str(i+1)\n",
    "    filename = 'danse/{}.png'.format(name_im)\n",
    "    danse.append(imread(filename))"
   ]
  },
  {
   "cell_type": "code",
   "execution_count": 24,
   "metadata": {
    "collapsed": true
   },
   "outputs": [],
   "source": [
    "def median_3d(ims):\n",
    "    ims_r = []\n",
    "    dists = []\n",
    "    for im in ims:\n",
    "        ims_r.append(np.reshape(im,(1,im.shape[0]*im.shape[1])))\n",
    "    for im in ims_r:\n",
    "        dists.append(0)\n",
    "        for im2 in ims_r:\n",
    "            dists[-1] += np.linalg.norm(im2-im1)**2\n",
    "    dists.sort()\n",
    "    return dists[0], (dists[0]==dists[1])        "
   ]
  },
  {
   "cell_type": "code",
   "execution_count": 29,
   "metadata": {
    "collapsed": true
   },
   "outputs": [],
   "source": []
  },
  {
   "cell_type": "code",
   "execution_count": 27,
   "metadata": {
    "collapsed": true
   },
   "outputs": [],
   "source": []
  }
 ],
 "metadata": {
  "kernelspec": {
   "display_name": "Python 3",
   "language": "python",
   "name": "python3"
  },
  "language_info": {
   "codemirror_mode": {
    "name": "ipython",
    "version": 3
   },
   "file_extension": ".py",
   "mimetype": "text/x-python",
   "name": "python",
   "nbconvert_exporter": "python",
   "pygments_lexer": "ipython3",
   "version": "3.6.3"
  }
 },
 "nbformat": 4,
 "nbformat_minor": 2
}
